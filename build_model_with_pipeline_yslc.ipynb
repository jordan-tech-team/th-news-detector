{
  "nbformat": 4,
  "nbformat_minor": 0,
  "metadata": {
    "colab": {
      "name": "build_model_with_pipeline_yslc.ipynb",
      "provenance": [],
      "collapsed_sections": [],
      "toc_visible": true,
      "include_colab_link": true
    },
    "kernelspec": {
      "name": "python3",
      "display_name": "Python 3"
    },
    "language_info": {
      "name": "python"
    }
  },
  "cells": [
    {
      "cell_type": "markdown",
      "metadata": {
        "id": "view-in-github",
        "colab_type": "text"
      },
      "source": [
        "<a href=\"https://colab.research.google.com/github/5hyfilm/yslc2021-c08-jordan/blob/main/build_model_with_pipeline_yslc.ipynb\" target=\"_parent\"><img src=\"https://colab.research.google.com/assets/colab-badge.svg\" alt=\"Open In Colab\"/></a>"
      ]
    },
    {
      "cell_type": "markdown",
      "metadata": {
        "id": "w4F2GUMpv0Q2"
      },
      "source": [
        "# Fake News Classification by JORDAN Team\n",
        "\n"
      ]
    },
    {
      "cell_type": "markdown",
      "metadata": {
        "id": "pma3ncHC7v0n"
      },
      "source": [
        "Young Safe Internet Leader Camp (YSLC) Version 3.0 2021"
      ]
    },
    {
      "cell_type": "markdown",
      "metadata": {
        "id": "Tfmp7n7hkFuG"
      },
      "source": [
        "# Install & Import Libraries"
      ]
    },
    {
      "cell_type": "markdown",
      "metadata": {
        "id": "itveTC-Om7ay"
      },
      "source": [
        "## Install"
      ]
    },
    {
      "cell_type": "code",
      "metadata": {
        "colab": {
          "base_uri": "https://localhost:8080/"
        },
        "id": "JxYsvTl-lvCX",
        "outputId": "2880ed1d-d033-4eba-817a-90d246aa6482"
      },
      "source": [
        "!pip install pythainlp\n",
        "!pip install emoji"
      ],
      "execution_count": null,
      "outputs": [
        {
          "output_type": "stream",
          "text": [
            "Collecting pythainlp\n",
            "  Downloading pythainlp-2.3.1-py3-none-any.whl (11.0 MB)\n",
            "\u001b[K     |████████████████████████████████| 11.0 MB 5.0 MB/s \n",
            "\u001b[?25hRequirement already satisfied: requests>=2.22.0 in /usr/local/lib/python3.7/dist-packages (from pythainlp) (2.23.0)\n",
            "Collecting python-crfsuite>=0.9.6\n",
            "  Downloading python_crfsuite-0.9.7-cp37-cp37m-manylinux1_x86_64.whl (743 kB)\n",
            "\u001b[K     |████████████████████████████████| 743 kB 46.8 MB/s \n",
            "\u001b[?25hCollecting tinydb>=3.0\n",
            "  Downloading tinydb-4.5.1-py3-none-any.whl (23 kB)\n",
            "Requirement already satisfied: urllib3!=1.25.0,!=1.25.1,<1.26,>=1.21.1 in /usr/local/lib/python3.7/dist-packages (from requests>=2.22.0->pythainlp) (1.24.3)\n",
            "Requirement already satisfied: chardet<4,>=3.0.2 in /usr/local/lib/python3.7/dist-packages (from requests>=2.22.0->pythainlp) (3.0.4)\n",
            "Requirement already satisfied: certifi>=2017.4.17 in /usr/local/lib/python3.7/dist-packages (from requests>=2.22.0->pythainlp) (2021.5.30)\n",
            "Requirement already satisfied: idna<3,>=2.5 in /usr/local/lib/python3.7/dist-packages (from requests>=2.22.0->pythainlp) (2.10)\n",
            "Collecting typing-extensions<4.0.0,>=3.10.0\n",
            "  Downloading typing_extensions-3.10.0.0-py3-none-any.whl (26 kB)\n",
            "Installing collected packages: typing-extensions, tinydb, python-crfsuite, pythainlp\n",
            "  Attempting uninstall: typing-extensions\n",
            "    Found existing installation: typing-extensions 3.7.4.3\n",
            "    Uninstalling typing-extensions-3.7.4.3:\n",
            "      Successfully uninstalled typing-extensions-3.7.4.3\n",
            "\u001b[31mERROR: pip's dependency resolver does not currently take into account all the packages that are installed. This behaviour is the source of the following dependency conflicts.\n",
            "tensorflow 2.6.0 requires typing-extensions~=3.7.4, but you have typing-extensions 3.10.0.0 which is incompatible.\u001b[0m\n",
            "Successfully installed pythainlp-2.3.1 python-crfsuite-0.9.7 tinydb-4.5.1 typing-extensions-3.10.0.0\n",
            "Collecting emoji\n",
            "  Downloading emoji-1.4.2.tar.gz (184 kB)\n",
            "\u001b[K     |████████████████████████████████| 184 kB 5.1 MB/s \n",
            "\u001b[?25hBuilding wheels for collected packages: emoji\n",
            "  Building wheel for emoji (setup.py) ... \u001b[?25l\u001b[?25hdone\n",
            "  Created wheel for emoji: filename=emoji-1.4.2-py3-none-any.whl size=186469 sha256=c83f31d3fa422dd02f90481eee646501a392f2effe040cbafd458ebebc2efe27\n",
            "  Stored in directory: /root/.cache/pip/wheels/e4/61/e7/2fc1ac8f306848fc66c6c013ab511f0a39ef4b1825b11363b2\n",
            "Successfully built emoji\n",
            "Installing collected packages: emoji\n",
            "Successfully installed emoji-1.4.2\n"
          ],
          "name": "stdout"
        }
      ]
    },
    {
      "cell_type": "markdown",
      "metadata": {
        "id": "pzFx2dAwm9Ld"
      },
      "source": [
        "## Import"
      ]
    },
    {
      "cell_type": "code",
      "metadata": {
        "id": "87C6wUUkLvQQ"
      },
      "source": [
        "import pandas as pd\n",
        "import pythainlp\n",
        "import pythainlp.util\n",
        "from pythainlp import sent_tokenize\n",
        "from pythainlp import word_tokenize\n",
        "from pythainlp.ulmfit import process_thai\n",
        "import string\n",
        "import sklearn\n",
        "from sklearn.model_selection import train_test_split\n",
        "from sklearn.feature_extraction.text import TfidfVectorizer\n",
        "from sklearn.pipeline import Pipeline\n",
        "from sklearn.linear_model import PassiveAggressiveClassifier\n",
        "from sklearn.calibration import CalibratedClassifierCV\n",
        "from sklearn.metrics import accuracy_score, confusion_matrix, classification_report\n",
        "import numpy as np\n",
        "from matplotlib import pyplot as plt\n",
        "import itertools"
      ],
      "execution_count": null,
      "outputs": []
    },
    {
      "cell_type": "code",
      "metadata": {
        "id": "KER2cgg0l3ox"
      },
      "source": [
        "import warnings\n",
        "warnings.filterwarnings('ignore')"
      ],
      "execution_count": null,
      "outputs": []
    },
    {
      "cell_type": "markdown",
      "metadata": {
        "id": "1TQ1KPZekLBs"
      },
      "source": [
        "# Preview Data"
      ]
    },
    {
      "cell_type": "code",
      "metadata": {
        "id": "3Se9qX_FL8jB"
      },
      "source": [
        "df = pd.read_csv('/content/yslc2021-data.csv')"
      ],
      "execution_count": null,
      "outputs": []
    },
    {
      "cell_type": "code",
      "metadata": {
        "colab": {
          "base_uri": "https://localhost:8080/"
        },
        "id": "8TMlPgsAtzv1",
        "outputId": "5bed6663-545f-470a-c98a-d437a17634d2"
      },
      "source": [
        "df.shape"
      ],
      "execution_count": null,
      "outputs": [
        {
          "output_type": "execute_result",
          "data": {
            "text/plain": [
              "(1700, 6)"
            ]
          },
          "metadata": {},
          "execution_count": 5
        }
      ]
    },
    {
      "cell_type": "code",
      "metadata": {
        "colab": {
          "base_uri": "https://localhost:8080/",
          "height": 204
        },
        "id": "h8yhw3spR8AB",
        "outputId": "edc439a6-042b-4139-fb34-c9e0664ffc06"
      },
      "source": [
        "df.head()"
      ],
      "execution_count": null,
      "outputs": [
        {
          "output_type": "execute_result",
          "data": {
            "text/html": [
              "<div>\n",
              "<style scoped>\n",
              "    .dataframe tbody tr th:only-of-type {\n",
              "        vertical-align: middle;\n",
              "    }\n",
              "\n",
              "    .dataframe tbody tr th {\n",
              "        vertical-align: top;\n",
              "    }\n",
              "\n",
              "    .dataframe thead th {\n",
              "        text-align: right;\n",
              "    }\n",
              "</style>\n",
              "<table border=\"1\" class=\"dataframe\">\n",
              "  <thead>\n",
              "    <tr style=\"text-align: right;\">\n",
              "      <th></th>\n",
              "      <th>id</th>\n",
              "      <th>title</th>\n",
              "      <th>text</th>\n",
              "      <th>author</th>\n",
              "      <th>url</th>\n",
              "      <th>label</th>\n",
              "    </tr>\n",
              "  </thead>\n",
              "  <tbody>\n",
              "    <tr>\n",
              "      <th>0</th>\n",
              "      <td>1</td>\n",
              "      <td>อย่าหลงเชื่อ ข่าวปลอม ยาพาราเซตามอลปนเปื้อนเชื...</td>\n",
              "      <td>เป็นกระแสดังมาก ถึงเรื่องการห้ามกินยาพาราเซตาม...</td>\n",
              "      <td>ข่าวประชาสัมพันธ์ กองพัฒนาศักยภาพผู้บริโภค</td>\n",
              "      <td>https://www.antifakenewscenter.com/ข่าวปลอม-ยา...</td>\n",
              "      <td>0</td>\n",
              "    </tr>\n",
              "    <tr>\n",
              "      <th>1</th>\n",
              "      <td>2</td>\n",
              "      <td>ข่าวปลอม “บิ๊กตู่” เรียกเก็บเงินภาษี 7 % “ก้าว...</td>\n",
              "      <td>หลังจากที่มีการนำเสนอข่าวรัฐบาลประชุมเรียกเก็บ...</td>\n",
              "      <td>http://www.mgronline.com/</td>\n",
              "      <td>https://www.antifakenewscenter.com/ข่าวปลอม-ก้...</td>\n",
              "      <td>0</td>\n",
              "    </tr>\n",
              "    <tr>\n",
              "      <th>2</th>\n",
              "      <td>3</td>\n",
              "      <td>เว็บคลิกเบทผุดข่าวปลอม เสี่ยตัน ไม่ช่วย พี่ตูน...</td>\n",
              "      <td>ทำไมเรายังแชร์ข่าวปลอม! ชาวเน็ตด่าขรม เว็บคลิก...</td>\n",
              "      <td>ไทยรัฐ ออนไลน์</td>\n",
              "      <td>https://www.antifakenewscenter.com/เว็บคลิกเบท...</td>\n",
              "      <td>0</td>\n",
              "    </tr>\n",
              "    <tr>\n",
              "      <th>3</th>\n",
              "      <td>4</td>\n",
              "      <td>สธ.เตือน “อย่าเชื่อ-อย่าแชร์” ข่าวปลอมอ้างมีคน...</td>\n",
              "      <td>กระทรวงสาธารณสุขแจ้งเตือนประชาชน “อย่าเชื่อ-อย...</td>\n",
              "      <td>http://www.posttoday.com/</td>\n",
              "      <td>https://www.antifakenewscenter.com/ข่าวปลอม-คน...</td>\n",
              "      <td>0</td>\n",
              "    </tr>\n",
              "    <tr>\n",
              "      <th>4</th>\n",
              "      <td>5</td>\n",
              "      <td>“ไอซ์ ปรีชญา” เดือด เว็บปลอมกุข่าว โดนรวบปาร์ต...</td>\n",
              "      <td>“ไอซ์ ปรีชญา พงษ์ธนานิกร” เดือด เว็ปปลอมกุข่าว...</td>\n",
              "      <td>http://www.brighttv.co.th/</td>\n",
              "      <td>https://www.antifakenewscenter.com/ไอซ์ปรีชญา-...</td>\n",
              "      <td>0</td>\n",
              "    </tr>\n",
              "  </tbody>\n",
              "</table>\n",
              "</div>"
            ],
            "text/plain": [
              "   id  ... label\n",
              "0   1  ...     0\n",
              "1   2  ...     0\n",
              "2   3  ...     0\n",
              "3   4  ...     0\n",
              "4   5  ...     0\n",
              "\n",
              "[5 rows x 6 columns]"
            ]
          },
          "metadata": {},
          "execution_count": 6
        }
      ]
    },
    {
      "cell_type": "markdown",
      "metadata": {
        "id": "_LJ1sqQ17VDx"
      },
      "source": [
        "### Prevalence"
      ]
    },
    {
      "cell_type": "code",
      "metadata": {
        "colab": {
          "base_uri": "https://localhost:8080/"
        },
        "id": "WGtenO_V6cQX",
        "outputId": "b8aaa2e0-6f39-4c4a-f60b-2a785d28be7a"
      },
      "source": [
        "print(df[\"label\"].value_counts() / df.shape[0])"
      ],
      "execution_count": null,
      "outputs": [
        {
          "output_type": "stream",
          "text": [
            "0    0.840588\n",
            "1    0.159412\n",
            "Name: label, dtype: float64\n"
          ],
          "name": "stdout"
        }
      ]
    },
    {
      "cell_type": "markdown",
      "metadata": {
        "id": "Zy67tgXr7ZKL"
      },
      "source": [
        "# Preprocessing"
      ]
    },
    {
      "cell_type": "markdown",
      "metadata": {
        "id": "KuVrM7ivj4Xj"
      },
      "source": [
        "## Clean Text by Remove Punctuation"
      ]
    },
    {
      "cell_type": "code",
      "metadata": {
        "colab": {
          "base_uri": "https://localhost:8080/",
          "height": 35
        },
        "id": "Vg3RhXFCgTNM",
        "outputId": "9dd1bf3f-7032-4f59-dd10-7ffb7486aff5"
      },
      "source": [
        "string.punctuation"
      ],
      "execution_count": null,
      "outputs": [
        {
          "output_type": "execute_result",
          "data": {
            "application/vnd.google.colaboratory.intrinsic+json": {
              "type": "string"
            },
            "text/plain": [
              "'!\"#$%&\\'()*+,-./:;<=>?@[\\\\]^_`{|}~'"
            ]
          },
          "metadata": {},
          "execution_count": 8
        }
      ]
    },
    {
      "cell_type": "code",
      "metadata": {
        "id": "xAeqlWiPgpci"
      },
      "source": [
        "def remove_punctuation(txt):\n",
        "  txt_nopunct = ''.join([c for c in str(txt) if c not in string.punctuation])\n",
        "  return txt_nopunct"
      ],
      "execution_count": null,
      "outputs": []
    },
    {
      "cell_type": "code",
      "metadata": {
        "id": "5zLFUC9_h-qh"
      },
      "source": [
        "df['text_clean'] = df['text'].apply(lambda x: remove_punctuation(x))"
      ],
      "execution_count": null,
      "outputs": []
    },
    {
      "cell_type": "code",
      "metadata": {
        "colab": {
          "base_uri": "https://localhost:8080/",
          "height": 289
        },
        "id": "BzhD9w35iNqF",
        "outputId": "4e1acbfc-8937-458a-f1a1-d4b9d291c7f0"
      },
      "source": [
        "df.head()"
      ],
      "execution_count": null,
      "outputs": [
        {
          "output_type": "execute_result",
          "data": {
            "text/html": [
              "<div>\n",
              "<style scoped>\n",
              "    .dataframe tbody tr th:only-of-type {\n",
              "        vertical-align: middle;\n",
              "    }\n",
              "\n",
              "    .dataframe tbody tr th {\n",
              "        vertical-align: top;\n",
              "    }\n",
              "\n",
              "    .dataframe thead th {\n",
              "        text-align: right;\n",
              "    }\n",
              "</style>\n",
              "<table border=\"1\" class=\"dataframe\">\n",
              "  <thead>\n",
              "    <tr style=\"text-align: right;\">\n",
              "      <th></th>\n",
              "      <th>id</th>\n",
              "      <th>title</th>\n",
              "      <th>text</th>\n",
              "      <th>author</th>\n",
              "      <th>url</th>\n",
              "      <th>label</th>\n",
              "      <th>text_clean</th>\n",
              "    </tr>\n",
              "  </thead>\n",
              "  <tbody>\n",
              "    <tr>\n",
              "      <th>0</th>\n",
              "      <td>1</td>\n",
              "      <td>อย่าหลงเชื่อ ข่าวปลอม ยาพาราเซตามอลปนเปื้อนเชื...</td>\n",
              "      <td>เป็นกระแสดังมาก ถึงเรื่องการห้ามกินยาพาราเซตาม...</td>\n",
              "      <td>ข่าวประชาสัมพันธ์ กองพัฒนาศักยภาพผู้บริโภค</td>\n",
              "      <td>https://www.antifakenewscenter.com/ข่าวปลอม-ยา...</td>\n",
              "      <td>0</td>\n",
              "      <td>เป็นกระแสดังมาก ถึงเรื่องการห้ามกินยาพาราเซตาม...</td>\n",
              "    </tr>\n",
              "    <tr>\n",
              "      <th>1</th>\n",
              "      <td>2</td>\n",
              "      <td>ข่าวปลอม “บิ๊กตู่” เรียกเก็บเงินภาษี 7 % “ก้าว...</td>\n",
              "      <td>หลังจากที่มีการนำเสนอข่าวรัฐบาลประชุมเรียกเก็บ...</td>\n",
              "      <td>http://www.mgronline.com/</td>\n",
              "      <td>https://www.antifakenewscenter.com/ข่าวปลอม-ก้...</td>\n",
              "      <td>0</td>\n",
              "      <td>หลังจากที่มีการนำเสนอข่าวรัฐบาลประชุมเรียกเก็บ...</td>\n",
              "    </tr>\n",
              "    <tr>\n",
              "      <th>2</th>\n",
              "      <td>3</td>\n",
              "      <td>เว็บคลิกเบทผุดข่าวปลอม เสี่ยตัน ไม่ช่วย พี่ตูน...</td>\n",
              "      <td>ทำไมเรายังแชร์ข่าวปลอม! ชาวเน็ตด่าขรม เว็บคลิก...</td>\n",
              "      <td>ไทยรัฐ ออนไลน์</td>\n",
              "      <td>https://www.antifakenewscenter.com/เว็บคลิกเบท...</td>\n",
              "      <td>0</td>\n",
              "      <td>ทำไมเรายังแชร์ข่าวปลอม ชาวเน็ตด่าขรม เว็บคลิกเ...</td>\n",
              "    </tr>\n",
              "    <tr>\n",
              "      <th>3</th>\n",
              "      <td>4</td>\n",
              "      <td>สธ.เตือน “อย่าเชื่อ-อย่าแชร์” ข่าวปลอมอ้างมีคน...</td>\n",
              "      <td>กระทรวงสาธารณสุขแจ้งเตือนประชาชน “อย่าเชื่อ-อย...</td>\n",
              "      <td>http://www.posttoday.com/</td>\n",
              "      <td>https://www.antifakenewscenter.com/ข่าวปลอม-คน...</td>\n",
              "      <td>0</td>\n",
              "      <td>กระทรวงสาธารณสุขแจ้งเตือนประชาชน “อย่าเชื่ออย่...</td>\n",
              "    </tr>\n",
              "    <tr>\n",
              "      <th>4</th>\n",
              "      <td>5</td>\n",
              "      <td>“ไอซ์ ปรีชญา” เดือด เว็บปลอมกุข่าว โดนรวบปาร์ต...</td>\n",
              "      <td>“ไอซ์ ปรีชญา พงษ์ธนานิกร” เดือด เว็ปปลอมกุข่าว...</td>\n",
              "      <td>http://www.brighttv.co.th/</td>\n",
              "      <td>https://www.antifakenewscenter.com/ไอซ์ปรีชญา-...</td>\n",
              "      <td>0</td>\n",
              "      <td>“ไอซ์ ปรีชญา พงษ์ธนานิกร” เดือด เว็ปปลอมกุข่าว...</td>\n",
              "    </tr>\n",
              "  </tbody>\n",
              "</table>\n",
              "</div>"
            ],
            "text/plain": [
              "   id  ...                                         text_clean\n",
              "0   1  ...  เป็นกระแสดังมาก ถึงเรื่องการห้ามกินยาพาราเซตาม...\n",
              "1   2  ...  หลังจากที่มีการนำเสนอข่าวรัฐบาลประชุมเรียกเก็บ...\n",
              "2   3  ...  ทำไมเรายังแชร์ข่าวปลอม ชาวเน็ตด่าขรม เว็บคลิกเ...\n",
              "3   4  ...  กระทรวงสาธารณสุขแจ้งเตือนประชาชน “อย่าเชื่ออย่...\n",
              "4   5  ...  “ไอซ์ ปรีชญา พงษ์ธนานิกร” เดือด เว็ปปลอมกุข่าว...\n",
              "\n",
              "[5 rows x 7 columns]"
            ]
          },
          "metadata": {},
          "execution_count": 11
        }
      ]
    },
    {
      "cell_type": "markdown",
      "metadata": {
        "id": "2IPLnlw_j-Kl"
      },
      "source": [
        "## Tokenization"
      ]
    },
    {
      "cell_type": "code",
      "metadata": {
        "id": "RusO_j4oidYH"
      },
      "source": [
        "df[\"processed\"] = df.text_clean.map(lambda x: \"|\".join(process_thai(x)))\n",
        "df[\"wc\"] = df.processed.map(lambda x: len(x.split(\"|\")))\n",
        "df[\"uwc\"] = df.processed.map(lambda x: len(set(x.split(\"|\"))))\n",
        "\n",
        "# test_df[\"processed\"] = test_df.texts.map(lambda x: \"|\".join(process_thai(x)))\n",
        "# test_df[\"wc\"] = test_df.processed.map(lambda x: len(x.split(\"|\")))\n",
        "# test_df[\"uwc\"] = test_df.processed.map(lambda x: len(set(x.split(\"|\"))))"
      ],
      "execution_count": null,
      "outputs": []
    },
    {
      "cell_type": "code",
      "metadata": {
        "colab": {
          "base_uri": "https://localhost:8080/",
          "height": 289
        },
        "id": "CaBgm6W8jfJk",
        "outputId": "fee67dfd-83a6-45ab-c33b-2538453d4c09"
      },
      "source": [
        "df.head()"
      ],
      "execution_count": null,
      "outputs": [
        {
          "output_type": "execute_result",
          "data": {
            "text/html": [
              "<div>\n",
              "<style scoped>\n",
              "    .dataframe tbody tr th:only-of-type {\n",
              "        vertical-align: middle;\n",
              "    }\n",
              "\n",
              "    .dataframe tbody tr th {\n",
              "        vertical-align: top;\n",
              "    }\n",
              "\n",
              "    .dataframe thead th {\n",
              "        text-align: right;\n",
              "    }\n",
              "</style>\n",
              "<table border=\"1\" class=\"dataframe\">\n",
              "  <thead>\n",
              "    <tr style=\"text-align: right;\">\n",
              "      <th></th>\n",
              "      <th>id</th>\n",
              "      <th>title</th>\n",
              "      <th>text</th>\n",
              "      <th>author</th>\n",
              "      <th>url</th>\n",
              "      <th>label</th>\n",
              "      <th>text_clean</th>\n",
              "      <th>processed</th>\n",
              "      <th>wc</th>\n",
              "      <th>uwc</th>\n",
              "    </tr>\n",
              "  </thead>\n",
              "  <tbody>\n",
              "    <tr>\n",
              "      <th>0</th>\n",
              "      <td>1</td>\n",
              "      <td>อย่าหลงเชื่อ ข่าวปลอม ยาพาราเซตามอลปนเปื้อนเชื...</td>\n",
              "      <td>เป็นกระแสดังมาก ถึงเรื่องการห้ามกินยาพาราเซตาม...</td>\n",
              "      <td>ข่าวประชาสัมพันธ์ กองพัฒนาศักยภาพผู้บริโภค</td>\n",
              "      <td>https://www.antifakenewscenter.com/ข่าวปลอม-ยา...</td>\n",
              "      <td>0</td>\n",
              "      <td>เป็นกระแสดังมาก ถึงเรื่องการห้ามกินยาพาราเซตาม...</td>\n",
              "      <td>เป็น|กระแส|ดัง|มาก|ถึง|เรื่อง|การ|ห้าม|กิน|ยา|...</td>\n",
              "      <td>200</td>\n",
              "      <td>115</td>\n",
              "    </tr>\n",
              "    <tr>\n",
              "      <th>1</th>\n",
              "      <td>2</td>\n",
              "      <td>ข่าวปลอม “บิ๊กตู่” เรียกเก็บเงินภาษี 7 % “ก้าว...</td>\n",
              "      <td>หลังจากที่มีการนำเสนอข่าวรัฐบาลประชุมเรียกเก็บ...</td>\n",
              "      <td>http://www.mgronline.com/</td>\n",
              "      <td>https://www.antifakenewscenter.com/ข่าวปลอม-ก้...</td>\n",
              "      <td>0</td>\n",
              "      <td>หลังจากที่มีการนำเสนอข่าวรัฐบาลประชุมเรียกเก็บ...</td>\n",
              "      <td>หลังจากที่|มี|การ|นำเสนอ|ข่าว|รัฐบาล|ประชุม|เร...</td>\n",
              "      <td>265</td>\n",
              "      <td>141</td>\n",
              "    </tr>\n",
              "    <tr>\n",
              "      <th>2</th>\n",
              "      <td>3</td>\n",
              "      <td>เว็บคลิกเบทผุดข่าวปลอม เสี่ยตัน ไม่ช่วย พี่ตูน...</td>\n",
              "      <td>ทำไมเรายังแชร์ข่าวปลอม! ชาวเน็ตด่าขรม เว็บคลิก...</td>\n",
              "      <td>ไทยรัฐ ออนไลน์</td>\n",
              "      <td>https://www.antifakenewscenter.com/เว็บคลิกเบท...</td>\n",
              "      <td>0</td>\n",
              "      <td>ทำไมเรายังแชร์ข่าวปลอม ชาวเน็ตด่าขรม เว็บคลิกเ...</td>\n",
              "      <td>ทำไม|เรา|ยัง|แชร์|ข่าว|ปลอม|ชาว|เน็ต|ด่า|ขรม|เ...</td>\n",
              "      <td>169</td>\n",
              "      <td>102</td>\n",
              "    </tr>\n",
              "    <tr>\n",
              "      <th>3</th>\n",
              "      <td>4</td>\n",
              "      <td>สธ.เตือน “อย่าเชื่อ-อย่าแชร์” ข่าวปลอมอ้างมีคน...</td>\n",
              "      <td>กระทรวงสาธารณสุขแจ้งเตือนประชาชน “อย่าเชื่อ-อย...</td>\n",
              "      <td>http://www.posttoday.com/</td>\n",
              "      <td>https://www.antifakenewscenter.com/ข่าวปลอม-คน...</td>\n",
              "      <td>0</td>\n",
              "      <td>กระทรวงสาธารณสุขแจ้งเตือนประชาชน “อย่าเชื่ออย่...</td>\n",
              "      <td>กระทรวงสาธารณสุข|แจ้ง|เตือน|ประชาชน|“|อย่า|เชื...</td>\n",
              "      <td>110</td>\n",
              "      <td>71</td>\n",
              "    </tr>\n",
              "    <tr>\n",
              "      <th>4</th>\n",
              "      <td>5</td>\n",
              "      <td>“ไอซ์ ปรีชญา” เดือด เว็บปลอมกุข่าว โดนรวบปาร์ต...</td>\n",
              "      <td>“ไอซ์ ปรีชญา พงษ์ธนานิกร” เดือด เว็ปปลอมกุข่าว...</td>\n",
              "      <td>http://www.brighttv.co.th/</td>\n",
              "      <td>https://www.antifakenewscenter.com/ไอซ์ปรีชญา-...</td>\n",
              "      <td>0</td>\n",
              "      <td>“ไอซ์ ปรีชญา พงษ์ธนานิกร” เดือด เว็ปปลอมกุข่าว...</td>\n",
              "      <td>“|ไอ|ซ์|ปรีชญา|พง|ษ์ธ|นา|นิกร|”|เดือด|เว็ป|ปลอ...</td>\n",
              "      <td>336</td>\n",
              "      <td>182</td>\n",
              "    </tr>\n",
              "  </tbody>\n",
              "</table>\n",
              "</div>"
            ],
            "text/plain": [
              "   id                                              title  ...   wc  uwc\n",
              "0   1  อย่าหลงเชื่อ ข่าวปลอม ยาพาราเซตามอลปนเปื้อนเชื...  ...  200  115\n",
              "1   2  ข่าวปลอม “บิ๊กตู่” เรียกเก็บเงินภาษี 7 % “ก้าว...  ...  265  141\n",
              "2   3  เว็บคลิกเบทผุดข่าวปลอม เสี่ยตัน ไม่ช่วย พี่ตูน...  ...  169  102\n",
              "3   4  สธ.เตือน “อย่าเชื่อ-อย่าแชร์” ข่าวปลอมอ้างมีคน...  ...  110   71\n",
              "4   5  “ไอซ์ ปรีชญา” เดือด เว็บปลอมกุข่าว โดนรวบปาร์ต...  ...  336  182\n",
              "\n",
              "[5 rows x 10 columns]"
            ]
          },
          "metadata": {},
          "execution_count": 13
        }
      ]
    },
    {
      "cell_type": "markdown",
      "metadata": {
        "id": "vavX5SZXj0eP"
      },
      "source": [
        "## Split"
      ]
    },
    {
      "cell_type": "code",
      "metadata": {
        "id": "ACw6DiZ_SJot"
      },
      "source": [
        "x = df['text_clean']\n",
        "y = df['label']"
      ],
      "execution_count": null,
      "outputs": []
    },
    {
      "cell_type": "code",
      "metadata": {
        "id": "eil6PvRutbku"
      },
      "source": [
        "x_train, x_test, y_train, y_test = train_test_split(x, y, test_size=0.2,random_state=0)"
      ],
      "execution_count": null,
      "outputs": []
    },
    {
      "cell_type": "code",
      "metadata": {
        "colab": {
          "base_uri": "https://localhost:8080/"
        },
        "id": "ZtyQqlRY0BtG",
        "outputId": "83fe14fa-ebb5-4380-bb82-ebc354cb47f1"
      },
      "source": [
        "x_train.shape"
      ],
      "execution_count": null,
      "outputs": [
        {
          "output_type": "execute_result",
          "data": {
            "text/plain": [
              "(1360,)"
            ]
          },
          "metadata": {},
          "execution_count": 16
        }
      ]
    },
    {
      "cell_type": "markdown",
      "metadata": {
        "id": "6AkqlZZenyOH"
      },
      "source": [
        "### Features"
      ]
    },
    {
      "cell_type": "code",
      "metadata": {
        "id": "hFDWQIprtcqf"
      },
      "source": [
        "classifier = Pipeline([('tfidf', TfidfVectorizer(tokenizer=process_thai, ngram_range=(1,2), min_df=20, sublinear_tf=True)),\n",
        "                    ('pacmodel', CalibratedClassifierCV(PassiveAggressiveClassifier(max_iter=50)))])"
      ],
      "execution_count": null,
      "outputs": []
    },
    {
      "cell_type": "code",
      "metadata": {
        "colab": {
          "base_uri": "https://localhost:8080/"
        },
        "id": "pE_gAOFDtkuC",
        "outputId": "5f7104ea-d85f-4f28-c4f7-301c88376e45"
      },
      "source": [
        "classifier.fit(x_train, y_train)"
      ],
      "execution_count": null,
      "outputs": [
        {
          "output_type": "execute_result",
          "data": {
            "text/plain": [
              "Pipeline(memory=None,\n",
              "         steps=[('tfidf',\n",
              "                 TfidfVectorizer(analyzer='word', binary=False,\n",
              "                                 decode_error='strict',\n",
              "                                 dtype=<class 'numpy.float64'>,\n",
              "                                 encoding='utf-8', input='content',\n",
              "                                 lowercase=True, max_df=1.0, max_features=None,\n",
              "                                 min_df=20, ngram_range=(1, 2), norm='l2',\n",
              "                                 preprocessor=None, smooth_idf=True,\n",
              "                                 stop_words=None, strip_accents=None,\n",
              "                                 sublinear_tf=True,\n",
              "                                 token_pattern='...\n",
              "                                 use_idf=True, vocabulary=None)),\n",
              "                ('pacmodel',\n",
              "                 CalibratedClassifierCV(base_estimator=PassiveAggressiveClassifier(C=1.0,\n",
              "                                                                                   average=False,\n",
              "                                                                                   class_weight=None,\n",
              "                                                                                   early_stopping=False,\n",
              "                                                                                   fit_intercept=True,\n",
              "                                                                                   loss='hinge',\n",
              "                                                                                   max_iter=50,\n",
              "                                                                                   n_iter_no_change=5,\n",
              "                                                                                   n_jobs=None,\n",
              "                                                                                   random_state=None,\n",
              "                                                                                   shuffle=True,\n",
              "                                                                                   tol=0.001,\n",
              "                                                                                   validation_fraction=0.1,\n",
              "                                                                                   verbose=0,\n",
              "                                                                                   warm_start=False),\n",
              "                                        cv=None, method='sigmoid'))],\n",
              "         verbose=False)"
            ]
          },
          "metadata": {},
          "execution_count": 18
        }
      ]
    },
    {
      "cell_type": "markdown",
      "metadata": {
        "id": "xCNnmv8zpYLg"
      },
      "source": [
        "# Evaluation"
      ]
    },
    {
      "cell_type": "markdown",
      "metadata": {
        "id": "MQBn-_5vC0Js"
      },
      "source": [
        "### Label\n",
        "*   0 = Fake News ข่าวปลอม\n",
        "*   1 = Real News ข่าวจริง\n",
        "\n"
      ]
    },
    {
      "cell_type": "code",
      "metadata": {
        "colab": {
          "base_uri": "https://localhost:8080/"
        },
        "id": "a5ZZeQd8tnYm",
        "outputId": "3f6f2ca7-5ca7-417f-cb22-b384cd328bfb"
      },
      "source": [
        "y_pred = classifier.predict(x_test)\n",
        "score = accuracy_score(y_test, y_pred)\n",
        "print(f'Accuracy: {round(score * 100, 2)}%')"
      ],
      "execution_count": null,
      "outputs": [
        {
          "output_type": "stream",
          "text": [
            "Accuracy: 99.12%\n"
          ],
          "name": "stdout"
        }
      ]
    },
    {
      "cell_type": "markdown",
      "metadata": {
        "id": "PqMTryN0stmd"
      },
      "source": [
        "## Confusion Matrix"
      ]
    },
    {
      "cell_type": "code",
      "metadata": {
        "colab": {
          "base_uri": "https://localhost:8080/"
        },
        "id": "Dfqls_VrtoiW",
        "outputId": "048aabbf-632a-49f7-b2af-f2a8b1d3e72b"
      },
      "source": [
        "cf = confusion_matrix(y_test, y_pred, labels=[0, 1])\n",
        "print(cf)"
      ],
      "execution_count": null,
      "outputs": [
        {
          "output_type": "stream",
          "text": [
            "[[283   1]\n",
            " [  2  54]]\n"
          ],
          "name": "stdout"
        }
      ]
    },
    {
      "cell_type": "code",
      "metadata": {
        "id": "SRoN4qtwBaG0"
      },
      "source": [
        "def plot_confusion_matrix(cm, classes, normalize=False, title='Confusion matrix', cmap=plt.cm.Blues):\n",
        "    \"\"\"\n",
        "    This function prints and plots the confusion matrix.\n",
        "    Normalization can be applied by setting `normalize=True`.\n",
        "    \"\"\"\n",
        "    if normalize:\n",
        "        cm = cm.astype('float') / cm.sum(axis=1)[:, np.newaxis]\n",
        "        print(\"Normalized confusion matrix\")\n",
        "    else:\n",
        "        print('Confusion matrix, without normalization')\n",
        "\n",
        "    print(cm)\n",
        "    plt.imshow(cm, interpolation='nearest', cmap=cmap)\n",
        "    plt.title(title)\n",
        "    plt.colorbar()\n",
        "    tick_marks = np.arange(len(classes))\n",
        "    plt.xticks(tick_marks, classes, rotation=45)\n",
        "    plt.yticks(tick_marks, classes)\n",
        "    fmt = '.2f' if normalize else 'd'\n",
        "    thresh = cm.max() / 2.\n",
        "    for i, j in itertools.product(range(cm.shape[0]), range(cm.shape[1])):\n",
        "        plt.text(j, i, format(cm[i, j], fmt),\n",
        "                 horizontalalignment=\"center\",\n",
        "                 color=\"white\" if cm[i, j] > thresh else \"black\")\n",
        "    plt.ylabel('True label')\n",
        "    plt.xlabel('Predicted label')\n",
        "    plt.tight_layout()"
      ],
      "execution_count": null,
      "outputs": []
    },
    {
      "cell_type": "code",
      "metadata": {
        "colab": {
          "base_uri": "https://localhost:8080/",
          "height": 348
        },
        "id": "PkH4jsAZCGx9",
        "outputId": "15ef25e3-9470-4eb6-e349-8a779685f2fa"
      },
      "source": [
        "plot_confusion_matrix(cf, ['Fake', 'Real'])"
      ],
      "execution_count": null,
      "outputs": [
        {
          "output_type": "stream",
          "text": [
            "Confusion matrix, without normalization\n",
            "[[283   1]\n",
            " [  2  54]]\n"
          ],
          "name": "stdout"
        },
        {
          "output_type": "display_data",
          "data": {
            "image/png": "[encoded data removed]",
            "text/plain": [
              "<Figure size 432x288 with 2 Axes>"
            ]
          },
          "metadata": {
            "needs_background": "light"
          }
        }
      ]
    },
    {
      "cell_type": "code",
      "metadata": {
        "colab": {
          "base_uri": "https://localhost:8080/",
          "height": 348
        },
        "id": "Ux-VA1rPCkQA",
        "outputId": "12417646-ed79-48f0-e7fc-4ed2bd6d524e"
      },
      "source": [
        "plot_confusion_matrix(cf, ['Fake', 'Real'], normalize=True)"
      ],
      "execution_count": null,
      "outputs": [
        {
          "output_type": "stream",
          "text": [
            "Normalized confusion matrix\n",
            "[[0.99647887 0.00352113]\n",
            " [0.03571429 0.96428571]]\n"
          ],
          "name": "stdout"
        },
        {
          "output_type": "display_data",
          "data": {
            "image/png": "[encoded data removed]",
            "text/plain": [
              "<Figure size 432x288 with 2 Axes>"
            ]
          },
          "metadata": {
            "needs_background": "light"
          }
        }
      ]
    },
    {
      "cell_type": "markdown",
      "metadata": {
        "id": "T0CmDXr0soJU"
      },
      "source": [
        "## Classification Report"
      ]
    },
    {
      "cell_type": "code",
      "metadata": {
        "colab": {
          "base_uri": "https://localhost:8080/"
        },
        "id": "db3LXmYDqZCU",
        "outputId": "88155f4c-974c-4381-b745-34092baa95b1"
      },
      "source": [
        "print(classification_report(y_test, y_pred, labels=[0, 1]))"
      ],
      "execution_count": null,
      "outputs": [
        {
          "output_type": "stream",
          "text": [
            "              precision    recall  f1-score   support\n",
            "\n",
            "           0       0.99      1.00      0.99       284\n",
            "           1       0.98      0.96      0.97        56\n",
            "\n",
            "    accuracy                           0.99       340\n",
            "   macro avg       0.99      0.98      0.98       340\n",
            "weighted avg       0.99      0.99      0.99       340\n",
            "\n"
          ],
          "name": "stdout"
        }
      ]
    },
    {
      "cell_type": "markdown",
      "metadata": {
        "id": "zrEfWG5mq3W2"
      },
      "source": [
        "# Save Model"
      ]
    },
    {
      "cell_type": "markdown",
      "metadata": {
        "id": "cyaRRC_asjSc"
      },
      "source": [
        "## Dump Model"
      ]
    },
    {
      "cell_type": "code",
      "metadata": {
        "id": "4ILpnpwOZGuI"
      },
      "source": [
        "import pickle\n",
        "with open('yslc-jordan-model.pickle', 'wb') as handle:\n",
        "    pickle.dump(classifier, handle, protocol=pickle.HIGHEST_PROTOCOL)"
      ],
      "execution_count": null,
      "outputs": []
    },
    {
      "cell_type": "code",
      "metadata": {
        "id": "Ri2VSzNovAKA"
      },
      "source": [
        "with open('/content/yslc-jordan-model.pickle', 'rb') as handle:\n",
        "\tloaded_model = pickle.load(handle) "
      ],
      "execution_count": null,
      "outputs": []
    },
    {
      "cell_type": "markdown",
      "metadata": {
        "id": "KoSxnHj2nf2r"
      },
      "source": [
        "# Prediction"
      ]
    },
    {
      "cell_type": "code",
      "metadata": {
        "id": "j7yqKpPHxzw0"
      },
      "source": [
        "news = 'กรณี รถฟอร์จูนเนอร์ตกสะพานขาดที่ อ.นบพิตำ ช่วงน้ำท่วมใหญ่ปลายปี 63 ทำให้มีผู้เสียชีวิต 1 ศพ และรอดมาได้ 1 ราย ล่าสุด พบซากรถที่ถูกกระแสน้ำพัดห่างจากจุดเกิดเหตุไป 500 เมตร สภาพแหลกยับทั้งคัน'"
      ],
      "execution_count": null,
      "outputs": []
    },
    {
      "cell_type": "markdown",
      "metadata": {
        "id": "NBiWXh8hBdqJ"
      },
      "source": [
        "## Class Prediction"
      ]
    },
    {
      "cell_type": "code",
      "metadata": {
        "id": "YM6ZaokvtpxE"
      },
      "source": [
        "prediction = loaded_model.predict([news])"
      ],
      "execution_count": null,
      "outputs": []
    },
    {
      "cell_type": "code",
      "metadata": {
        "colab": {
          "base_uri": "https://localhost:8080/"
        },
        "id": "bX1dXZ-T-lhR",
        "outputId": "fb2b84e3-7e6f-4a9b-d2d4-c30bc1e247c6"
      },
      "source": [
        "print(prediction)"
      ],
      "execution_count": null,
      "outputs": [
        {
          "output_type": "stream",
          "text": [
            "[1]\n"
          ],
          "name": "stdout"
        }
      ]
    },
    {
      "cell_type": "markdown",
      "metadata": {
        "id": "Ei4Z2MnjBirZ"
      },
      "source": [
        "## Probability of Prediction"
      ]
    },
    {
      "cell_type": "code",
      "metadata": {
        "id": "LHPYuL3Y9wSH"
      },
      "source": [
        "prediction_proba = loaded_model.predict_proba([news])"
      ],
      "execution_count": null,
      "outputs": []
    },
    {
      "cell_type": "code",
      "metadata": {
        "id": "n42GDdXaOlzc"
      },
      "source": [
        "prediction_proba_2f = max(max(prediction_proba))*100"
      ],
      "execution_count": null,
      "outputs": []
    },
    {
      "cell_type": "code",
      "metadata": {
        "colab": {
          "base_uri": "https://localhost:8080/"
        },
        "id": "XFcBDNtgPPCR",
        "outputId": "9871a46c-4a23-4d9e-c845-a8a5ae80eaaa"
      },
      "source": [
        "print(prediction_proba_2f)"
      ],
      "execution_count": null,
      "outputs": [
        {
          "output_type": "stream",
          "text": [
            "63.133001234726706\n"
          ],
          "name": "stdout"
        }
      ]
    },
    {
      "cell_type": "markdown",
      "metadata": {
        "id": "XivgorB6sl_Y"
      },
      "source": [
        "# Download Model"
      ]
    },
    {
      "cell_type": "code",
      "metadata": {
        "colab": {
          "base_uri": "https://localhost:8080/",
          "height": 17
        },
        "id": "4jUt0V9dSngk",
        "outputId": "aaeedc3f-28d8-4b26-c27f-734e11649c63"
      },
      "source": [
        "from google.colab import files\n",
        "files.download('/content/yslc-jordan-model.pickle')"
      ],
      "execution_count": null,
      "outputs": [
        {
          "output_type": "display_data",
          "data": {
            "application/javascript": [
              "\n",
              "    async function download(id, filename, size) {\n",
              "      if (!google.colab.kernel.accessAllowed) {\n",
              "        return;\n",
              "      }\n",
              "      const div = document.createElement('div');\n",
              "      const label = document.createElement('label');\n",
              "      label.textContent = `Downloading \"${filename}\": `;\n",
              "      div.appendChild(label);\n",
              "      const progress = document.createElement('progress');\n",
              "      progress.max = size;\n",
              "      div.appendChild(progress);\n",
              "      document.body.appendChild(div);\n",
              "\n",
              "      const buffers = [];\n",
              "      let downloaded = 0;\n",
              "\n",
              "      const channel = await google.colab.kernel.comms.open(id);\n",
              "      // Send a message to notify the kernel that we're ready.\n",
              "      channel.send({})\n",
              "\n",
              "      for await (const message of channel.messages) {\n",
              "        // Send a message to notify the kernel that we're ready.\n",
              "        channel.send({})\n",
              "        if (message.buffers) {\n",
              "          for (const buffer of message.buffers) {\n",
              "            buffers.push(buffer);\n",
              "            downloaded += buffer.byteLength;\n",
              "            progress.value = downloaded;\n",
              "          }\n",
              "        }\n",
              "      }\n",
              "      const blob = new Blob(buffers, {type: 'application/binary'});\n",
              "      const a = document.createElement('a');\n",
              "      a.href = window.URL.createObjectURL(blob);\n",
              "      a.download = filename;\n",
              "      div.appendChild(a);\n",
              "      a.click();\n",
              "      div.remove();\n",
              "    }\n",
              "  "
            ],
            "text/plain": [
              "<IPython.core.display.Javascript object>"
            ]
          },
          "metadata": {}
        },
        {
          "output_type": "display_data",
          "data": {
            "application/javascript": [
              "download(\"download_77eceb72-7a8d-4397-acd6-d2c93e084e0f\", \"yslc-jordan-model.pickle\", 3981267)"
            ],
            "text/plain": [
              "<IPython.core.display.Javascript object>"
            ]
          },
          "metadata": {}
        }
      ]
    }
  ]
}